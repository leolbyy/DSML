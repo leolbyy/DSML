{
 "cells": [
  {
   "cell_type": "code",
   "execution_count": 1,
   "metadata": {},
   "outputs": [],
   "source": [
    "import re\n",
    "import requests\n",
    "from bs4 import BeautifulSoup\n",
    "import os\n",
    "import socket\n",
    "import urllib.request"
   ]
  },
  {
   "cell_type": "code",
   "execution_count": 2,
   "metadata": {},
   "outputs": [],
   "source": [
    "data = []"
   ]
  },
  {
   "cell_type": "code",
   "execution_count": 3,
   "metadata": {},
   "outputs": [],
   "source": [
    "url = 'https://www.imdb.com/chart/top/'"
   ]
  },
  {
   "cell_type": "code",
   "execution_count": 4,
   "metadata": {},
   "outputs": [],
   "source": [
    "socket.setdefaulttimeout(15)\n",
    "\n",
    "opener = urllib.request.build_opener()\n",
    "opener.addheaders = [('User-Agent', 'Mozilla/5.0')]\n",
    "urllib.request.install_opener(opener)"
   ]
  },
  {
   "cell_type": "code",
   "execution_count": 5,
   "metadata": {},
   "outputs": [],
   "source": [
    "session = requests.session()\n",
    "headers = {'User-Agent': 'Mozilla/5.0'}\n",
    "response = session.get(url, headers=headers)\n",
    "webpage = response.text\n",
    "soup = BeautifulSoup(webpage, 'html.parser')"
   ]
  },
  {
   "cell_type": "code",
   "execution_count": 6,
   "metadata": {},
   "outputs": [],
   "source": [
    "prefix = \"https://www.imdb.com/\""
   ]
  },
  {
   "cell_type": "code",
   "execution_count": 7,
   "metadata": {},
   "outputs": [],
   "source": [
    "tops = soup.find_all('td', {\"class\":\"titleColumn\"})"
   ]
  },
  {
   "cell_type": "code",
   "execution_count": 8,
   "metadata": {},
   "outputs": [
    {
     "name": "stdout",
     "output_type": "stream",
     "text": [
      "1 2 3 4 5 6 7 8 9 10 11 12 13 14 15 16 17 18 19 20 21 22 23 24 25 26 27 28 29 30 31 32 33 34 35 36 37 38 39 40 41 42 43 44 45 46 47 48 49 50 51 52 53 54 55 56 57 58 59 60 61 62 63 64 65 66 67 68 69 70 71 72 73 74 75 76 77 78 79 80 81 82 83 84 85 86 87 88 89 90 91 92 93 94 95 96 97 98 99 100 101 102 103 104 105 106 107 108 109 110 111 112 113 114 115 116 117 118 119 120 121 122 123 124 125 126 127 128 129 130 131 132 133 134 135 136 137 138 139 140 141 142 143 144 145 146 147 148 149 150 151 152 153 154 155 156 157 158 159 160 161 162 163 164 165 166 167 168 169 170 171 172 173 174 175 176 177 178 179 180 181 182 183 184 185 186 187 188 189 190 191 192 193 194 195 196 197 198 199 200 201 202 203 204 205 206 207 208 209 210 211 212 213 214 215 216 217 218 219 220 221 222 223 224 225 226 227 228 229 230 231 232 233 234 235 236 237 238 239 240 241 242 243 244 245 246 247 248 249 250 "
     ]
    }
   ],
   "source": [
    "for top in tops:\n",
    "    ranking = int(top.get_text().strip().split('.')[0])\n",
    "    print(ranking, end=' ')\n",
    "    item_url = prefix + top.find('a').get('href')\n",
    "\n",
    "    item_response = session.get(item_url, headers=headers)\n",
    "    item_webpage = item_response.text\n",
    "    item_soup = BeautifulSoup(item_webpage, 'html.parser')\n",
    "\n",
    "    title = item_soup.find('h1', {\"data-testid\":\"hero-title-block__title\"})\n",
    "    poster = item_soup.find('img', {'class':'ipc-image'}).get('src')\n",
    "    duration = item_soup.find('ul', {'data-testid':'hero-title-block__metadata'}).find_all('li')[2].get_text()\n",
    "\n",
    "    # get grading in Singapore\n",
    "    grading_url = prefix + item_soup.find('ul', {'data-testid':'hero-title-block__metadata'}).find_all('li')[1].find('a').get('href')\n",
    "    grading_soup = BeautifulSoup(session.get(grading_url, headers=headers).text, 'html.parser')\n",
    "    all_gradings = [i.get_text() for i in grading_soup.find('section', {'id':'certificates'}).find('ul', {'class':'ipl-inline-list'}).find_all('a')]\n",
    "    singapore_gradings = [i.split(':')[-1] for i in all_gradings if 'Singapore' in i]\n",
    "    if len(singapore_gradings) == 0: \n",
    "        grading = None\n",
    "    else:\n",
    "        grading = singapore_gradings[-1]\n",
    "\n",
    "    data.append([ranking, title, poster, duration, grading])"
   ]
  },
  {
   "cell_type": "code",
   "execution_count": 11,
   "metadata": {},
   "outputs": [],
   "source": [
    "import pandas as pd\n",
    "\n",
    "df_data = pd.DataFrame(data, columns=['rank', 'title', 'poster', 'duration', 'grading'])\n",
    "df_data['title'] = df_data['title'].apply(lambda x: x.get_text())"
   ]
  },
  {
   "cell_type": "code",
   "execution_count": 28,
   "metadata": {},
   "outputs": [],
   "source": [
    "\n",
    "df_data.to_csv('./IMDB_top250.csv')"
   ]
  },
  {
   "cell_type": "code",
   "execution_count": 30,
   "metadata": {},
   "outputs": [
    {
     "data": {
      "text/plain": [
       "array(['NC-16', 'M18', 'PG13', 'PG', 'R21', 'R(A)', 'NC16', None, 'G'],\n",
       "      dtype=object)"
      ]
     },
     "execution_count": 30,
     "metadata": {},
     "output_type": "execute_result"
    }
   ],
   "source": [
    "df_data.grading.unique()"
   ]
  },
  {
   "cell_type": "code",
   "execution_count": 34,
   "metadata": {},
   "outputs": [
    {
     "data": {
      "text/plain": [
       "array([[1, 'The Shawshank Redemption',\n",
       "        'https://m.media-amazon.com/images/M/MV5BMDFkYTc0MGEtZmNhMC00ZDIzLWFmNTEtODM1ZmRlYWMwMWFmXkEyXkFqcGdeQXVyMTMxODk2OTU@._V1_QL75_UX190_CR0,0,190,281_.jpg',\n",
       "        '2h 22m', 'NC-16'],\n",
       "       [2, 'The Godfather',\n",
       "        'https://m.media-amazon.com/images/M/MV5BM2MyNjYxNmUtYTAwNi00MTYxLWJmNWYtYzZlODY3ZTk3OTFlXkEyXkFqcGdeQXVyNzkwMjQ5NzM@._V1_QL75_UY281_CR4,0,190,281_.jpg',\n",
       "        '2h 55m', 'M18'],\n",
       "       [3, 'The Dark Knight',\n",
       "        'https://m.media-amazon.com/images/M/MV5BMTMxNTMwODM0NF5BMl5BanBnXkFtZTcwODAyMTk2Mw@@._V1_QL75_UX190_CR0,0,190,281_.jpg',\n",
       "        '2h 32m', 'PG13'],\n",
       "       ...,\n",
       "       [248, 'The Help',\n",
       "        'https://m.media-amazon.com/images/M/MV5BYzM3NDNlMDgtMjJkOC00ODA1LTg1MTUtOGQ5NTlmMmI0MGUzXkEyXkFqcGdeQXVyNDI3NjU1NzQ@._V1_QL75_UX190_CR0,2,190,281_.jpg',\n",
       "        '2h 26m', 'PG'],\n",
       "       [249, 'Aladdin',\n",
       "        'https://m.media-amazon.com/images/M/MV5BY2Q2NDI1MjUtM2Q5ZS00MTFlLWJiYWEtNTZmNjQ3OGJkZDgxXkEyXkFqcGdeQXVyNTI4MjkwNjA@._V1_QL75_UY281_CR1,0,190,281_.jpg',\n",
       "        '1h 30m', 'G'],\n",
       "       [250, 'The Iron Giant',\n",
       "        'https://m.media-amazon.com/images/M/MV5BMTYzNjZhNDgtZjBmOC00NjNiLWFhYjQtNjE3NmUyNjAwMGUyL2ltYWdlXkEyXkFqcGdeQXVyNTAyODkwOQ@@._V1_QL75_UX190_CR0,0,190,281_.jpg',\n",
       "        '1h 26m', 'PG']], dtype=object)"
      ]
     },
     "execution_count": 34,
     "metadata": {},
     "output_type": "execute_result"
    }
   ],
   "source": [
    "df_data.to_numpy()"
   ]
  },
  {
   "cell_type": "markdown",
   "metadata": {},
   "source": [
    "item_url = prefix + tops[0].find('a').get('href')"
   ]
  },
  {
   "cell_type": "markdown",
   "metadata": {},
   "source": [
    "item_response = session.get(item_url, headers=headers)\n",
    "item_webpage = item_response.text\n",
    "item_soup = BeautifulSoup(item_webpage, 'html.parser')"
   ]
  },
  {
   "cell_type": "markdown",
   "metadata": {},
   "source": [
    "# title\n",
    "title = item_soup.find('h1', {\"data-testid\":\"hero-title-block__title\"})"
   ]
  },
  {
   "cell_type": "markdown",
   "metadata": {},
   "source": [
    "# poster url\n",
    "poster = item_soup.find('img', {'class':'ipc-image'}).get('src')"
   ]
  },
  {
   "cell_type": "markdown",
   "metadata": {},
   "source": [
    "# get_duration\n",
    "duration = item_soup.find('ul', {'data-testid':'hero-title-block__metadata'}).find_all('li')[2].get_text()"
   ]
  },
  {
   "cell_type": "markdown",
   "metadata": {},
   "source": [
    "grading_url = prefix + item_soup.find('ul', {'data-testid':'hero-title-block__metadata'}).find_all('li')[1].find('a').get('href')\n",
    "grading_soup = BeautifulSoup(session.get(grading_url, headers=headers).text, 'html.parser')"
   ]
  },
  {
   "cell_type": "markdown",
   "metadata": {},
   "source": [
    "all_gradings = [i.get_text() for i in grading_soup.find('section', {'id':'certificates'}).find('ul', {'class':'ipl-inline-list'}).find_all('a')]"
   ]
  },
  {
   "cell_type": "markdown",
   "metadata": {},
   "source": [
    "singapore_gradings = [i.split(':')[-1] for i in all_gradings if 'Singapore' in i]\n",
    "grading = singapore_gradings[-1]"
   ]
  },
  {
   "cell_type": "markdown",
   "metadata": {},
   "source": [
    "data.append([title, poster, duration, grading])"
   ]
  },
  {
   "cell_type": "code",
   "execution_count": null,
   "metadata": {},
   "outputs": [],
   "source": []
  }
 ],
 "metadata": {
  "kernelspec": {
   "display_name": "Python 3.9.6 ('DSA5101')",
   "language": "python",
   "name": "python3"
  },
  "language_info": {
   "codemirror_mode": {
    "name": "ipython",
    "version": 3
   },
   "file_extension": ".py",
   "mimetype": "text/x-python",
   "name": "python",
   "nbconvert_exporter": "python",
   "pygments_lexer": "ipython3",
   "version": "3.9.6"
  },
  "orig_nbformat": 4,
  "vscode": {
   "interpreter": {
    "hash": "1331cd9e96aa8c4cb7bc006e845a60915c9af7e15f64c058ab00201a27bd5d3b"
   }
  }
 },
 "nbformat": 4,
 "nbformat_minor": 2
}
