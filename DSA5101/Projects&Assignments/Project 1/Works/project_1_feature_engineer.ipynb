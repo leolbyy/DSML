{
 "cells": [
  {
   "cell_type": "code",
   "execution_count": 1,
   "metadata": {},
   "outputs": [],
   "source": [
    "import pandas as pd\n",
    "import numpy as np\n",
    "import sklearn\n",
    "import seaborn as sns\n",
    "from matplotlib import pyplot\n",
    "import datetime\n",
    "\n",
    "from sklearn.ensemble import RandomForestClassifier\n",
    "from sklearn.metrics import roc_auc_score, accuracy_score, precision_score, recall_score, f1_score\n",
    "from sklearn.model_selection import train_test_split\n",
    "from sklearn.preprocessing import OneHotEncoder\n",
    "from sklearn.preprocessing import LabelEncoder\n",
    "from sklearn.compose import make_column_transformer"
   ]
  },
  {
   "cell_type": "code",
   "execution_count": 2,
   "metadata": {},
   "outputs": [],
   "source": [
    "train_data = pd.read_csv('traininingdata.txt', sep=';')\n",
    "test_data = pd.read_csv('testdata.txt', sep=';')"
   ]
  },
  {
   "cell_type": "code",
   "execution_count": 3,
   "metadata": {},
   "outputs": [],
   "source": [
    "xtrain, ytrain = train_data.drop('y', axis = 1), train_data['y']\n",
    "xtest, ytest = test_data.drop('y', axis = 1), test_data['y']"
   ]
  },
  {
   "cell_type": "code",
   "execution_count": 4,
   "metadata": {},
   "outputs": [
    {
     "data": {
      "text/html": [
       "<div>\n",
       "<style scoped>\n",
       "    .dataframe tbody tr th:only-of-type {\n",
       "        vertical-align: middle;\n",
       "    }\n",
       "\n",
       "    .dataframe tbody tr th {\n",
       "        vertical-align: top;\n",
       "    }\n",
       "\n",
       "    .dataframe thead th {\n",
       "        text-align: right;\n",
       "    }\n",
       "</style>\n",
       "<table border=\"1\" class=\"dataframe\">\n",
       "  <thead>\n",
       "    <tr style=\"text-align: right;\">\n",
       "      <th></th>\n",
       "      <th>age</th>\n",
       "      <th>job</th>\n",
       "      <th>marital</th>\n",
       "      <th>education</th>\n",
       "      <th>default</th>\n",
       "      <th>balance</th>\n",
       "      <th>housing</th>\n",
       "      <th>loan</th>\n",
       "      <th>contact</th>\n",
       "      <th>day</th>\n",
       "      <th>month</th>\n",
       "      <th>duration</th>\n",
       "      <th>campaign</th>\n",
       "      <th>pdays</th>\n",
       "      <th>previous</th>\n",
       "      <th>poutcome</th>\n",
       "    </tr>\n",
       "  </thead>\n",
       "  <tbody>\n",
       "    <tr>\n",
       "      <th>0</th>\n",
       "      <td>42</td>\n",
       "      <td>technician</td>\n",
       "      <td>divorced</td>\n",
       "      <td>secondary</td>\n",
       "      <td>no</td>\n",
       "      <td>-78</td>\n",
       "      <td>yes</td>\n",
       "      <td>yes</td>\n",
       "      <td>cellular</td>\n",
       "      <td>29</td>\n",
       "      <td>jul</td>\n",
       "      <td>10</td>\n",
       "      <td>23</td>\n",
       "      <td>-1</td>\n",
       "      <td>0</td>\n",
       "      <td>unknown</td>\n",
       "    </tr>\n",
       "    <tr>\n",
       "      <th>1</th>\n",
       "      <td>50</td>\n",
       "      <td>management</td>\n",
       "      <td>married</td>\n",
       "      <td>tertiary</td>\n",
       "      <td>no</td>\n",
       "      <td>106</td>\n",
       "      <td>yes</td>\n",
       "      <td>no</td>\n",
       "      <td>unknown</td>\n",
       "      <td>15</td>\n",
       "      <td>may</td>\n",
       "      <td>388</td>\n",
       "      <td>2</td>\n",
       "      <td>-1</td>\n",
       "      <td>0</td>\n",
       "      <td>unknown</td>\n",
       "    </tr>\n",
       "    <tr>\n",
       "      <th>2</th>\n",
       "      <td>47</td>\n",
       "      <td>admin.</td>\n",
       "      <td>married</td>\n",
       "      <td>secondary</td>\n",
       "      <td>no</td>\n",
       "      <td>407</td>\n",
       "      <td>yes</td>\n",
       "      <td>no</td>\n",
       "      <td>unknown</td>\n",
       "      <td>5</td>\n",
       "      <td>jun</td>\n",
       "      <td>67</td>\n",
       "      <td>12</td>\n",
       "      <td>-1</td>\n",
       "      <td>0</td>\n",
       "      <td>unknown</td>\n",
       "    </tr>\n",
       "    <tr>\n",
       "      <th>3</th>\n",
       "      <td>39</td>\n",
       "      <td>admin.</td>\n",
       "      <td>divorced</td>\n",
       "      <td>secondary</td>\n",
       "      <td>no</td>\n",
       "      <td>952</td>\n",
       "      <td>yes</td>\n",
       "      <td>no</td>\n",
       "      <td>unknown</td>\n",
       "      <td>16</td>\n",
       "      <td>jun</td>\n",
       "      <td>62</td>\n",
       "      <td>1</td>\n",
       "      <td>-1</td>\n",
       "      <td>0</td>\n",
       "      <td>unknown</td>\n",
       "    </tr>\n",
       "    <tr>\n",
       "      <th>4</th>\n",
       "      <td>30</td>\n",
       "      <td>management</td>\n",
       "      <td>single</td>\n",
       "      <td>tertiary</td>\n",
       "      <td>no</td>\n",
       "      <td>364</td>\n",
       "      <td>no</td>\n",
       "      <td>no</td>\n",
       "      <td>cellular</td>\n",
       "      <td>30</td>\n",
       "      <td>apr</td>\n",
       "      <td>306</td>\n",
       "      <td>2</td>\n",
       "      <td>-1</td>\n",
       "      <td>0</td>\n",
       "      <td>unknown</td>\n",
       "    </tr>\n",
       "  </tbody>\n",
       "</table>\n",
       "</div>"
      ],
      "text/plain": [
       "   age         job   marital  education default  balance housing loan  \\\n",
       "0   42  technician  divorced  secondary      no      -78     yes  yes   \n",
       "1   50  management   married   tertiary      no      106     yes   no   \n",
       "2   47      admin.   married  secondary      no      407     yes   no   \n",
       "3   39      admin.  divorced  secondary      no      952     yes   no   \n",
       "4   30  management    single   tertiary      no      364      no   no   \n",
       "\n",
       "    contact  day month  duration  campaign  pdays  previous poutcome  \n",
       "0  cellular   29   jul        10        23     -1         0  unknown  \n",
       "1   unknown   15   may       388         2     -1         0  unknown  \n",
       "2   unknown    5   jun        67        12     -1         0  unknown  \n",
       "3   unknown   16   jun        62         1     -1         0  unknown  \n",
       "4  cellular   30   apr       306         2     -1         0  unknown  "
      ]
     },
     "execution_count": 4,
     "metadata": {},
     "output_type": "execute_result"
    }
   ],
   "source": [
    "xtrain.head()"
   ]
  },
  {
   "cell_type": "code",
   "execution_count": 15,
   "metadata": {},
   "outputs": [
    {
     "data": {
      "text/plain": [
       "job            y  \n",
       "admin.         no     3644\n",
       "               yes     519\n",
       "blue-collar    no     7235\n",
       "               yes     569\n",
       "entrepreneur   no     1111\n",
       "               yes     101\n",
       "housemaid      no      899\n",
       "               yes      81\n",
       "management     no     6497\n",
       "               yes    1055\n",
       "retired        no     1397\n",
       "               yes     417\n",
       "self-employed  no     1142\n",
       "               yes     144\n",
       "services       no     3016\n",
       "               yes     285\n",
       "student        no      538\n",
       "               yes     211\n",
       "technician     no     5369\n",
       "               yes     661\n",
       "unemployed     no      882\n",
       "               yes     163\n",
       "unknown        no      207\n",
       "               yes      25\n",
       "Name: y, dtype: int64"
      ]
     },
     "execution_count": 15,
     "metadata": {},
     "output_type": "execute_result"
    }
   ],
   "source": [
    "train_data.groupby(['job', 'y'])['y'].count()"
   ]
  },
  {
   "cell_type": "code",
   "execution_count": 24,
   "metadata": {},
   "outputs": [
    {
     "data": {
      "text/plain": [
       "(array([2.816e+03, 5.632e+03, 6.087e+03, 4.985e+03, 3.723e+03, 2.814e+03,\n",
       "        2.055e+03, 1.576e+03, 1.146e+03, 9.160e+02, 7.080e+02, 5.910e+02,\n",
       "        5.090e+02, 3.780e+02, 3.460e+02, 2.610e+02, 2.430e+02, 1.860e+02,\n",
       "        1.630e+02, 1.350e+02, 1.290e+02, 1.030e+02, 8.500e+01, 8.900e+01,\n",
       "        7.900e+01, 5.700e+01, 3.500e+01, 5.100e+01, 3.800e+01, 3.200e+01,\n",
       "        2.300e+01, 2.800e+01, 2.100e+01, 1.300e+01, 1.600e+01, 9.000e+00,\n",
       "        1.100e+01, 1.100e+01, 1.100e+01, 5.000e+00, 1.000e+01, 6.000e+00,\n",
       "        3.000e+00, 1.000e+00, 3.000e+00, 5.000e+00, 1.000e+00, 0.000e+00,\n",
       "        1.000e+00, 4.000e+00, 2.000e+00, 1.000e+00, 0.000e+00, 2.000e+00,\n",
       "        0.000e+00, 0.000e+00, 3.000e+00, 0.000e+00, 1.000e+00, 0.000e+00,\n",
       "        0.000e+00, 1.000e+00, 2.000e+00, 1.000e+00, 1.000e+00, 0.000e+00,\n",
       "        2.000e+00, 0.000e+00, 0.000e+00, 0.000e+00, 0.000e+00, 0.000e+00,\n",
       "        0.000e+00, 0.000e+00, 0.000e+00, 0.000e+00, 0.000e+00, 0.000e+00,\n",
       "        1.000e+00, 0.000e+00, 0.000e+00, 0.000e+00, 0.000e+00, 0.000e+00,\n",
       "        0.000e+00, 0.000e+00, 0.000e+00, 0.000e+00, 0.000e+00, 0.000e+00,\n",
       "        0.000e+00, 0.000e+00, 0.000e+00, 0.000e+00, 0.000e+00, 0.000e+00,\n",
       "        0.000e+00, 0.000e+00, 0.000e+00, 1.000e+00]),\n",
       " array([   0.  ,   49.18,   98.36,  147.54,  196.72,  245.9 ,  295.08,\n",
       "         344.26,  393.44,  442.62,  491.8 ,  540.98,  590.16,  639.34,\n",
       "         688.52,  737.7 ,  786.88,  836.06,  885.24,  934.42,  983.6 ,\n",
       "        1032.78, 1081.96, 1131.14, 1180.32, 1229.5 , 1278.68, 1327.86,\n",
       "        1377.04, 1426.22, 1475.4 , 1524.58, 1573.76, 1622.94, 1672.12,\n",
       "        1721.3 , 1770.48, 1819.66, 1868.84, 1918.02, 1967.2 , 2016.38,\n",
       "        2065.56, 2114.74, 2163.92, 2213.1 , 2262.28, 2311.46, 2360.64,\n",
       "        2409.82, 2459.  , 2508.18, 2557.36, 2606.54, 2655.72, 2704.9 ,\n",
       "        2754.08, 2803.26, 2852.44, 2901.62, 2950.8 , 2999.98, 3049.16,\n",
       "        3098.34, 3147.52, 3196.7 , 3245.88, 3295.06, 3344.24, 3393.42,\n",
       "        3442.6 , 3491.78, 3540.96, 3590.14, 3639.32, 3688.5 , 3737.68,\n",
       "        3786.86, 3836.04, 3885.22, 3934.4 , 3983.58, 4032.76, 4081.94,\n",
       "        4131.12, 4180.3 , 4229.48, 4278.66, 4327.84, 4377.02, 4426.2 ,\n",
       "        4475.38, 4524.56, 4573.74, 4622.92, 4672.1 , 4721.28, 4770.46,\n",
       "        4819.64, 4868.82, 4918.  ]),\n",
       " <BarContainer object of 100 artists>)"
      ]
     },
     "execution_count": 24,
     "metadata": {},
     "output_type": "execute_result"
    },
    {
     "data": {
      "image/png": "[encoded data removed]",
      "text/plain": [
       "<Figure size 640x480 with 1 Axes>"
      ]
     },
     "metadata": {},
     "output_type": "display_data"
    }
   ],
   "source": [
    "from matplotlib import pyplot\n",
    "\n",
    "pyplot.hist(xtrain.duration, bins=100)"
   ]
  },
  {
   "cell_type": "code",
   "execution_count": null,
   "metadata": {},
   "outputs": [],
   "source": [
    "pd.set_dis"
   ]
  },
  {
   "cell_type": "code",
   "execution_count": 35,
   "metadata": {},
   "outputs": [],
   "source": [
    "duration_count = train_data[train_data.duration > 1000][['duration', 'y']].groupby(['duration','y'])['y'].count()"
   ]
  },
  {
   "cell_type": "code",
   "execution_count": 36,
   "metadata": {},
   "outputs": [
    {
     "data": {
      "text/plain": [
       "duration  y  \n",
       "1001      no     2\n",
       "          yes    2\n",
       "1002      no     1\n",
       "          yes    1\n",
       "1003      no     1\n",
       "                ..\n",
       "3183      yes    1\n",
       "3253      yes    1\n",
       "3284      no     1\n",
       "3881      yes    1\n",
       "4918      no     1\n",
       "Name: y, Length: 638, dtype: int64"
      ]
     },
     "execution_count": 36,
     "metadata": {},
     "output_type": "execute_result"
    }
   ],
   "source": []
  },
  {
   "cell_type": "code",
   "execution_count": 37,
   "metadata": {},
   "outputs": [
    {
     "data": {
      "text/plain": [
       "95"
      ]
     },
     "execution_count": 37,
     "metadata": {},
     "output_type": "execute_result"
    }
   ],
   "source": [
    "max(train_data.age)"
   ]
  },
  {
   "cell_type": "code",
   "execution_count": 38,
   "metadata": {},
   "outputs": [
    {
     "data": {
      "text/plain": [
       "18"
      ]
     },
     "execution_count": 38,
     "metadata": {},
     "output_type": "execute_result"
    }
   ],
   "source": [
    "min(train_data.age)"
   ]
  },
  {
   "cell_type": "code",
   "execution_count": null,
   "metadata": {},
   "outputs": [],
   "source": [
    "young = train_data"
   ]
  },
  {
   "cell_type": "code",
   "execution_count": 39,
   "metadata": {},
   "outputs": [
    {
     "data": {
      "text/plain": [
       "0.025934527759345277"
      ]
     },
     "execution_count": 39,
     "metadata": {},
     "output_type": "execute_result"
    }
   ],
   "source": [
    "len(train_data[train_data['age'] > 60]) / len(train_data)"
   ]
  },
  {
   "cell_type": "code",
   "execution_count": null,
   "metadata": {},
   "outputs": [],
   "source": [
    "pyplot. train_data['age']"
   ]
  },
  {
   "cell_type": "code",
   "execution_count": 40,
   "metadata": {},
   "outputs": [],
   "source": [
    "import seaborn"
   ]
  },
  {
   "cell_type": "code",
   "execution_count": 42,
   "metadata": {},
   "outputs": [
    {
     "name": "stdout",
     "output_type": "stream",
     "text": [
      "Help on function kdeplot in module seaborn.distributions:\n",
      "\n",
      "kdeplot(data=None, *, x=None, y=None, hue=None, weights=None, palette=None, hue_order=None, hue_norm=None, color=None, fill=None, multiple='layer', common_norm=True, common_grid=False, cumulative=False, bw_method='scott', bw_adjust=1, warn_singular=True, log_scale=None, levels=10, thresh=0.05, gridsize=200, cut=3, clip=None, legend=True, cbar=False, cbar_ax=None, cbar_kws=None, ax=None, **kwargs)\n",
      "    Plot univariate or bivariate distributions using kernel density estimation.\n",
      "    \n",
      "    A kernel density estimate (KDE) plot is a method for visualizing the\n",
      "    distribution of observations in a dataset, analogous to a histogram. KDE\n",
      "    represents the data using a continuous probability density curve in one or\n",
      "    more dimensions.\n",
      "    \n",
      "    The approach is explained further in the :ref:`user guide <tutorial_kde>`.\n",
      "    \n",
      "    Relative to a histogram, KDE can produce a plot that is less cluttered and\n",
      "    more interpretable, especially when drawing multiple distributions. But it\n",
      "    has the potential to introduce distortions if the underlying distribution is\n",
      "    bounded or not smooth. Like a histogram, the quality of the representation\n",
      "    also depends on the selection of good smoothing parameters.\n",
      "    \n",
      "    Parameters\n",
      "    ----------\n",
      "    data : :class:`pandas.DataFrame`, :class:`numpy.ndarray`, mapping, or sequence\n",
      "        Input data structure. Either a long-form collection of vectors that can be\n",
      "        assigned to named variables or a wide-form dataset that will be internally\n",
      "        reshaped.\n",
      "    x, y : vectors or keys in ``data``\n",
      "        Variables that specify positions on the x and y axes.\n",
      "    hue : vector or key in ``data``\n",
      "        Semantic variable that is mapped to determine the color of plot elements.\n",
      "    weights : vector or key in ``data``\n",
      "        If provided, weight the kernel density estimation using these values.\n",
      "    palette : string, list, dict, or :class:`matplotlib.colors.Colormap`\n",
      "        Method for choosing the colors to use when mapping the ``hue`` semantic.\n",
      "        String values are passed to :func:`color_palette`. List or dict values\n",
      "        imply categorical mapping, while a colormap object implies numeric mapping.\n",
      "    hue_order : vector of strings\n",
      "        Specify the order of processing and plotting for categorical levels of the\n",
      "        ``hue`` semantic.\n",
      "    hue_norm : tuple or :class:`matplotlib.colors.Normalize`\n",
      "        Either a pair of values that set the normalization range in data units\n",
      "        or an object that will map from data units into a [0, 1] interval. Usage\n",
      "        implies numeric mapping.\n",
      "    color : :mod:`matplotlib color <matplotlib.colors>`\n",
      "        Single color specification for when hue mapping is not used. Otherwise, the\n",
      "        plot will try to hook into the matplotlib property cycle.\n",
      "    fill : bool or None\n",
      "        If True, fill in the area under univariate density curves or between\n",
      "        bivariate contours. If None, the default depends on ``multiple``.\n",
      "    multiple : {{\"layer\", \"stack\", \"fill\"}}\n",
      "        Method for drawing multiple elements when semantic mapping creates subsets.\n",
      "        Only relevant with univariate data.\n",
      "    common_norm : bool\n",
      "        If True, scale each conditional density by the number of observations\n",
      "        such that the total area under all densities sums to 1. Otherwise,\n",
      "        normalize each density independently.\n",
      "    common_grid : bool\n",
      "        If True, use the same evaluation grid for each kernel density estimate.\n",
      "        Only relevant with univariate data.\n",
      "    cumulative : bool, optional\n",
      "        If True, estimate a cumulative distribution function. Requires scipy.\n",
      "    bw_method : string, scalar, or callable, optional\n",
      "        Method for determining the smoothing bandwidth to use; passed to\n",
      "        :class:`scipy.stats.gaussian_kde`.\n",
      "    bw_adjust : number, optional\n",
      "        Factor that multiplicatively scales the value chosen using\n",
      "        ``bw_method``. Increasing will make the curve smoother. See Notes.\n",
      "    warn_singular : bool\n",
      "        If True, issue a warning when trying to estimate the density of data\n",
      "        with zero variance.\n",
      "    log_scale : bool or number, or pair of bools or numbers\n",
      "        Set axis scale(s) to log. A single value sets the data axis for univariate\n",
      "        distributions and both axes for bivariate distributions. A pair of values\n",
      "        sets each axis independently. Numeric values are interpreted as the desired\n",
      "        base (default 10). If `False`, defer to the existing Axes scale.\n",
      "    levels : int or vector\n",
      "        Number of contour levels or values to draw contours at. A vector argument\n",
      "        must have increasing values in [0, 1]. Levels correspond to iso-proportions\n",
      "        of the density: e.g., 20% of the probability mass will lie below the\n",
      "        contour drawn for 0.2. Only relevant with bivariate data.\n",
      "    thresh : number in [0, 1]\n",
      "        Lowest iso-proportion level at which to draw a contour line. Ignored when\n",
      "        ``levels`` is a vector. Only relevant with bivariate data.\n",
      "    gridsize : int\n",
      "        Number of points on each dimension of the evaluation grid.\n",
      "    cut : number, optional\n",
      "        Factor, multiplied by the smoothing bandwidth, that determines how\n",
      "        far the evaluation grid extends past the extreme datapoints. When\n",
      "        set to 0, truncate the curve at the data limits.\n",
      "    clip : pair of numbers or None, or a pair of such pairs\n",
      "        Do not evaluate the density outside of these limits.\n",
      "    legend : bool\n",
      "        If False, suppress the legend for semantic variables.\n",
      "    cbar : bool\n",
      "        If True, add a colorbar to annotate the color mapping in a bivariate plot.\n",
      "        Note: Does not currently support plots with a ``hue`` variable well.\n",
      "    cbar_ax : :class:`matplotlib.axes.Axes`\n",
      "        Pre-existing axes for the colorbar.\n",
      "    cbar_kws : dict\n",
      "        Additional parameters passed to :meth:`matplotlib.figure.Figure.colorbar`.\n",
      "    ax : :class:`matplotlib.axes.Axes`\n",
      "        Pre-existing axes for the plot. Otherwise, call :func:`matplotlib.pyplot.gca`\n",
      "        internally.\n",
      "    kwargs\n",
      "        Other keyword arguments are passed to one of the following matplotlib\n",
      "        functions:\n",
      "    \n",
      "        - :meth:`matplotlib.axes.Axes.plot` (univariate, ``fill=False``),\n",
      "        - :meth:`matplotlib.axes.Axes.fill_between` (univariate, ``fill=True``),\n",
      "        - :meth:`matplotlib.axes.Axes.contour` (bivariate, ``fill=False``),\n",
      "        - :meth:`matplotlib.axes.contourf` (bivariate, ``fill=True``).\n",
      "    \n",
      "    Returns\n",
      "    -------\n",
      "    :class:`matplotlib.axes.Axes`\n",
      "        The matplotlib axes containing the plot.\n",
      "    \n",
      "    See Also\n",
      "    --------\n",
      "    displot : Figure-level interface to distribution plot functions.\n",
      "    histplot : Plot a histogram of binned counts with optional normalization or smoothing.\n",
      "    ecdfplot : Plot empirical cumulative distribution functions.\n",
      "    jointplot : Draw a bivariate plot with univariate marginal distributions.\n",
      "    violinplot : Draw an enhanced boxplot using kernel density estimation.\n",
      "    \n",
      "    Notes\n",
      "    -----\n",
      "    \n",
      "    The *bandwidth*, or standard deviation of the smoothing kernel, is an\n",
      "    important parameter. Misspecification of the bandwidth can produce a\n",
      "    distorted representation of the data. Much like the choice of bin width in a\n",
      "    histogram, an over-smoothed curve can erase true features of a\n",
      "    distribution, while an under-smoothed curve can create false features out of\n",
      "    random variability. The rule-of-thumb that sets the default bandwidth works\n",
      "    best when the true distribution is smooth, unimodal, and roughly bell-shaped.\n",
      "    It is always a good idea to check the default behavior by using ``bw_adjust``\n",
      "    to increase or decrease the amount of smoothing.\n",
      "    \n",
      "    Because the smoothing algorithm uses a Gaussian kernel, the estimated density\n",
      "    curve can extend to values that do not make sense for a particular dataset.\n",
      "    For example, the curve may be drawn over negative values when smoothing data\n",
      "    that are naturally positive. The ``cut`` and ``clip`` parameters can be used\n",
      "    to control the extent of the curve, but datasets that have many observations\n",
      "    close to a natural boundary may be better served by a different visualization\n",
      "    method.\n",
      "    \n",
      "    Similar considerations apply when a dataset is naturally discrete or \"spiky\"\n",
      "    (containing many repeated observations of the same value). Kernel density\n",
      "    estimation will always produce a smooth curve, which would be misleading\n",
      "    in these situations.\n",
      "    \n",
      "    The units on the density axis are a common source of confusion. While kernel\n",
      "    density estimation produces a probability distribution, the height of the curve\n",
      "    at each point gives a density, not a probability. A probability can be obtained\n",
      "    only by integrating the density across a range. The curve is normalized so\n",
      "    that the integral over all possible values is 1, meaning that the scale of\n",
      "    the density axis depends on the data values.\n",
      "    \n",
      "    Examples\n",
      "    --------\n",
      "    \n",
      "    .. include:: ../docstrings/kdeplot.rst\n",
      "\n"
     ]
    }
   ],
   "source": [
    "help(seaborn.kdeplot)"
   ]
  },
  {
   "cell_type": "code",
   "execution_count": 43,
   "metadata": {},
   "outputs": [
    {
     "ename": "TypeError",
     "evalue": "The y variable is categorical, but one of ['numeric', 'datetime'] is required",
     "output_type": "error",
     "traceback": [
      "\u001b[0;31m---------------------------------------------------------------------------\u001b[0m",
      "\u001b[0;31mTypeError\u001b[0m                                 Traceback (most recent call last)",
      "Cell \u001b[0;32mIn [43], line 1\u001b[0m\n\u001b[0;32m----> 1\u001b[0m \u001b[43mseaborn\u001b[49m\u001b[38;5;241;43m.\u001b[39;49m\u001b[43mkdeplot\u001b[49m\u001b[43m(\u001b[49m\u001b[43mx\u001b[49m\u001b[43m \u001b[49m\u001b[38;5;241;43m=\u001b[39;49m\u001b[43m \u001b[49m\u001b[43mtrain_data\u001b[49m\u001b[43m[\u001b[49m\u001b[38;5;124;43m'\u001b[39;49m\u001b[38;5;124;43mage\u001b[39;49m\u001b[38;5;124;43m'\u001b[39;49m\u001b[43m]\u001b[49m\u001b[43m,\u001b[49m\u001b[43m \u001b[49m\u001b[43my\u001b[49m\u001b[43m \u001b[49m\u001b[38;5;241;43m=\u001b[39;49m\u001b[43m \u001b[49m\u001b[43mytrain\u001b[49m\u001b[43m,\u001b[49m\u001b[43m \u001b[49m\u001b[43mhue\u001b[49m\u001b[38;5;241;43m=\u001b[39;49m\u001b[43mytrain\u001b[49m\u001b[43m,\u001b[49m\u001b[43m \u001b[49m\u001b[43m)\u001b[49m\n",
      "File \u001b[0;32m~/.envs/common/lib/python3.9/site-packages/seaborn/distributions.py:1701\u001b[0m, in \u001b[0;36mkdeplot\u001b[0;34m(data, x, y, hue, weights, palette, hue_order, hue_norm, color, fill, multiple, common_norm, common_grid, cumulative, bw_method, bw_adjust, warn_singular, log_scale, levels, thresh, gridsize, cut, clip, legend, cbar, cbar_ax, cbar_kws, ax, **kwargs)\u001b[0m\n\u001b[1;32m   1698\u001b[0m \u001b[39mif\u001b[39;00m ax \u001b[39mis\u001b[39;00m \u001b[39mNone\u001b[39;00m:\n\u001b[1;32m   1699\u001b[0m     ax \u001b[39m=\u001b[39m plt\u001b[39m.\u001b[39mgca()\n\u001b[0;32m-> 1701\u001b[0m p\u001b[39m.\u001b[39;49m_attach(ax, allowed_types\u001b[39m=\u001b[39;49m[\u001b[39m\"\u001b[39;49m\u001b[39mnumeric\u001b[39;49m\u001b[39m\"\u001b[39;49m, \u001b[39m\"\u001b[39;49m\u001b[39mdatetime\u001b[39;49m\u001b[39m\"\u001b[39;49m], log_scale\u001b[39m=\u001b[39;49mlog_scale)\n\u001b[1;32m   1703\u001b[0m method \u001b[39m=\u001b[39m ax\u001b[39m.\u001b[39mfill_between \u001b[39mif\u001b[39;00m fill \u001b[39melse\u001b[39;00m ax\u001b[39m.\u001b[39mplot\n\u001b[1;32m   1704\u001b[0m color \u001b[39m=\u001b[39m _default_color(method, hue, color, kwargs)\n",
      "File \u001b[0;32m~/.envs/common/lib/python3.9/site-packages/seaborn/_oldcore.py:1211\u001b[0m, in \u001b[0;36mVectorPlotter._attach\u001b[0;34m(self, obj, allowed_types, log_scale)\u001b[0m\n\u001b[1;32m   1206\u001b[0m     \u001b[39mif\u001b[39;00m var_type \u001b[39mnot\u001b[39;00m \u001b[39min\u001b[39;00m allowed_types:\n\u001b[1;32m   1207\u001b[0m         err \u001b[39m=\u001b[39m (\n\u001b[1;32m   1208\u001b[0m             \u001b[39mf\u001b[39m\u001b[39m\"\u001b[39m\u001b[39mThe \u001b[39m\u001b[39m{\u001b[39;00mvar\u001b[39m}\u001b[39;00m\u001b[39m variable is \u001b[39m\u001b[39m{\u001b[39;00mvar_type\u001b[39m}\u001b[39;00m\u001b[39m, but one of \u001b[39m\u001b[39m\"\u001b[39m\n\u001b[1;32m   1209\u001b[0m             \u001b[39mf\u001b[39m\u001b[39m\"\u001b[39m\u001b[39m{\u001b[39;00mallowed_types\u001b[39m}\u001b[39;00m\u001b[39m is required\u001b[39m\u001b[39m\"\u001b[39m\n\u001b[1;32m   1210\u001b[0m         )\n\u001b[0;32m-> 1211\u001b[0m         \u001b[39mraise\u001b[39;00m \u001b[39mTypeError\u001b[39;00m(err)\n\u001b[1;32m   1213\u001b[0m \u001b[39m# -- Get axis objects for each row in plot_data for type conversions and scaling\u001b[39;00m\n\u001b[1;32m   1215\u001b[0m facet_dim \u001b[39m=\u001b[39m {\u001b[39m\"\u001b[39m\u001b[39mx\u001b[39m\u001b[39m\"\u001b[39m: \u001b[39m\"\u001b[39m\u001b[39mcol\u001b[39m\u001b[39m\"\u001b[39m, \u001b[39m\"\u001b[39m\u001b[39my\u001b[39m\u001b[39m\"\u001b[39m: \u001b[39m\"\u001b[39m\u001b[39mrow\u001b[39m\u001b[39m\"\u001b[39m}\n",
      "\u001b[0;31mTypeError\u001b[0m: The y variable is categorical, but one of ['numeric', 'datetime'] is required"
     ]
    },
    {
     "data": {
      "image/png": "[encoded data removed]",
      "text/plain": [
       "<Figure size 640x480 with 1 Axes>"
      ]
     },
     "metadata": {},
     "output_type": "display_data"
    }
   ],
   "source": [
    "seaborn.kdeplot(x = train_data['age'], hue=ytrain   )"
   ]
  },
  {
   "cell_type": "code",
   "execution_count": 45,
   "metadata": {},
   "outputs": [
    {
     "data": {
      "text/plain": [
       "cellular     23380\n",
       "unknown      10458\n",
       "telephone     2330\n",
       "Name: contact, dtype: int64"
      ]
     },
     "execution_count": 45,
     "metadata": {},
     "output_type": "execute_result"
    }
   ],
   "source": [
    "xtrain.contact.value_counts()"
   ]
  },
  {
   "cell_type": "code",
   "execution_count": null,
   "metadata": {},
   "outputs": [],
   "source": [
    "['celluar', 'unkown']"
   ]
  },
  {
   "cell_type": "code",
   "execution_count": 48,
   "metadata": {},
   "outputs": [
    {
     "data": {
      "text/plain": [
       "array(['secondary', 'tertiary', 'primary', 'unknown'], dtype=object)"
      ]
     },
     "execution_count": 48,
     "metadata": {},
     "output_type": "execute_result"
    }
   ],
   "source": [
    "xtrain.education.unique()"
   ]
  },
  {
   "cell_type": "code",
   "execution_count": 49,
   "metadata": {},
   "outputs": [
    {
     "data": {
      "text/plain": [
       "secondary    18556\n",
       "tertiary     10624\n",
       "primary       5492\n",
       "unknown       1496\n",
       "Name: education, dtype: int64"
      ]
     },
     "execution_count": 49,
     "metadata": {},
     "output_type": "execute_result"
    }
   ],
   "source": [
    "LabelEncoder()."
   ]
  },
  {
   "cell_type": "code",
   "execution_count": null,
   "metadata": {},
   "outputs": [],
   "source": []
  }
 ],
 "metadata": {
  "kernelspec": {
   "display_name": "Python 3.9.6 ('common')",
   "language": "python",
   "name": "python3"
  },
  "language_info": {
   "codemirror_mode": {
    "name": "ipython",
    "version": 3
   },
   "file_extension": ".py",
   "mimetype": "text/x-python",
   "name": "python",
   "nbconvert_exporter": "python",
   "pygments_lexer": "ipython3",
   "version": "3.9.6"
  },
  "orig_nbformat": 4,
  "vscode": {
   "interpreter": {
    "hash": "5dc5aaeee684b9df4be6aad91c7ebfc592e00e9d13f4d9c6a41c0ed1cc17b37a"
   }
  }
 },
 "nbformat": 4,
 "nbformat_minor": 2
}
