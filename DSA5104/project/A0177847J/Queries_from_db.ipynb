{
 "cells": [
  {
   "cell_type": "markdown",
   "id": "6b224ce8",
   "metadata": {},
   "source": [
    "# Querys"
   ]
  },
  {
   "cell_type": "code",
   "execution_count": 1,
   "id": "edc0aa98",
   "metadata": {},
   "outputs": [],
   "source": [
    "import mysql.connector\n",
    "import time\n",
    "import pandas as pd\n",
    "import datetime"
   ]
  },
  {
   "cell_type": "code",
   "execution_count": 2,
   "id": "e1a68648",
   "metadata": {},
   "outputs": [],
   "source": [
    "db = mysql.connector.connect(\n",
    "  host=\"localhost\",\n",
    "  user=\"root\",\n",
    "  password=\"\",\n",
    "  database='project'\n",
    ")"
   ]
  },
  {
   "cell_type": "code",
   "execution_count": 3,
   "id": "c832b0bb",
   "metadata": {},
   "outputs": [],
   "source": [
    "cursor = db.cursor()"
   ]
  },
  {
   "cell_type": "code",
   "execution_count": 4,
   "id": "4012f514",
   "metadata": {},
   "outputs": [
    {
     "name": "stdout",
     "output_type": "stream",
     "text": [
      "[('Entire home/apt', 8116), ('Private room', 5313), ('Hotel room', 664), ('Shared room', 523)]\n",
      "time used for this query is 0.14333224296569824s\n"
     ]
    }
   ],
   "source": [
    "db = mysql.connector.connect(\n",
    "  host=\"localhost\",\n",
    "  user=\"root\",\n",
    "  password=\"\",\n",
    "  database='project'\n",
    ")\n",
    "\n",
    "cursor = db.cursor()# 1. find the most common room type available.\n",
    "query = '''\n",
    "    SELECT room_type, COUNT(*) as frequency\n",
    "    FROM listing\n",
    "    GROUP BY room_type\n",
    "    ORDER BY COUNT(*) DESC\n",
    "'''\n",
    "start_time = time.time()\n",
    "cursor.execute(query)\n",
    "print(cursor.fetchall())\n",
    "print('time used for this query is ', time.time() - start_time, 's', sep = '')"
   ]
  },
  {
   "cell_type": "code",
   "execution_count": 5,
   "id": "5af44c96",
   "metadata": {},
   "outputs": [
    {
     "name": "stdout",
     "output_type": "stream",
     "text": [
      "[('Entire rental unit', 3545), ('Entire condo', 3198), ('Private room in rental unit', 1439), ('Private room in condo', 785), ('Room in boutique hotel', 572), ('Private room in home', 551), ('Room in hotel', 539), ('Entire home', 397), ('Entire serviced apartment', 384), ('Private room in townhouse', 357), ('Private room in hostel', 324), ('Private room in serviced apartment', 305), ('Shared room in hostel', 285), ('Private room in bed and breakfast', 261), ('Entire townhouse', 256)]\n",
      "time used for this query is 0.010516881942749023s\n"
     ]
    }
   ],
   "source": [
    "# 2. find top 15 property types\n",
    "query = '''\n",
    "    SELECT property_type, COUNT(*) as frequency\n",
    "    FROM listing\n",
    "    GROUP BY property_type\n",
    "    ORDER BY COUNT(*) DESC\n",
    "    LIMIT 15\n",
    "'''\n",
    "start_time = time.time()\n",
    "cursor.execute(query)\n",
    "print(cursor.fetchall())\n",
    "print('time used for this query is ', time.time() - start_time, 's', sep = '')"
   ]
  },
  {
   "cell_type": "code",
   "execution_count": 6,
   "id": "8c90c748",
   "metadata": {},
   "outputs": [
    {
     "name": "stdout",
     "output_type": "stream",
     "text": [
      "[('Dome', Decimal('51591.250000'), 8), ('Entire villa', Decimal('14371.478261'), 46), ('Shared room in casa particular', Decimal('14126.000000'), 1), ('Private room in boat', Decimal('12000.000000'), 1), ('Barn', Decimal('8850.000000'), 1), ('Shared room in serviced apartment', Decimal('8527.000000'), 3), ('Farm stay', Decimal('6826.000000'), 7), ('Shared room in hostel', Decimal('6152.333333'), 285), ('Private room in nature lodge', Decimal('6089.200000'), 5), ('Entire home', Decimal('5553.068010'), 397)]\n",
      "time used for this query is 0.013734579086303711s\n"
     ]
    }
   ],
   "source": [
    "# 3. find the top 10 property based on price \n",
    "query = '''\n",
    "    SELECT property_type, average_price, frequency\n",
    "    FROM \n",
    "        (SELECT property_type, AVG(price) as average_price, COUNT(*) as frequency\n",
    "            FROM listing\n",
    "            GROUP BY property_type\n",
    "        ) as new_table\n",
    "    ORDER BY average_price DESC\n",
    "    LIMIT 10\n",
    "'''\n",
    "start_time = time.time()\n",
    "cursor.execute(query)\n",
    "print(cursor.fetchall())\n",
    "print('time used for this query is ', time.time() - start_time, 's', sep = '')"
   ]
  },
  {
   "cell_type": "code",
   "execution_count": 7,
   "id": "82697a27",
   "metadata": {},
   "outputs": [
    {
     "name": "stdout",
     "output_type": "stream",
     "text": [
      "[('Shared room in cave', Decimal('320.000000'), 1), ('Shared room in cabin', Decimal('333.000000'), 1), ('Shared room in chalet', Decimal('375.000000'), 1), ('Private room in earthen home', Decimal('500.000000'), 1), ('Shared room in bed and breakfast', Decimal('507.721311'), 61), ('Shared room in townhouse', Decimal('538.631579'), 38), ('Private room in barn', Decimal('554.250000'), 4), ('Shared room in boutique hotel', Decimal('559.000000'), 4), ('Entire hostel', Decimal('590.000000'), 1), ('Shared room in tiny home', Decimal('671.500000'), 2)]\n",
      "time used for this query is 0.01319575309753418s\n"
     ]
    }
   ],
   "source": [
    "# 4. find the bottom 10 property based on price\n",
    "query = '''\n",
    "SELECT property_type, average_price, frequency\n",
    "FROM \n",
    "    (SELECT property_type, AVG(price) as average_price, COUNT(*) as frequency\n",
    "        FROM listing\n",
    "        GROUP BY property_type\n",
    "    ) as new_table\n",
    "ORDER BY average_price\n",
    "LIMIT 10\n",
    "'''\n",
    "start_time = time.time()\n",
    "cursor.execute(query)\n",
    "print(cursor.fetchall())\n",
    "print('time used for this query is ', time.time() - start_time, 's', sep = '')"
   ]
  },
  {
   "cell_type": "code",
   "execution_count": 8,
   "id": "333f6595",
   "metadata": {},
   "outputs": [
    {
     "name": "stdout",
     "output_type": "stream",
     "text": [
      "[('Casa particular', Decimal('5.000000000'), 1), ('Entire hostel', Decimal('5.000000000'), 1), ('Shared room in guesthouse', Decimal('5.000000000'), 2), ('Farm stay', Decimal('5.000000000'), 1), ('Private room in farm stay', Decimal('5.000000000'), 1), ('Private room in resort', Decimal('5.000000000'), 2), ('Private room in kezhan', Decimal('5.000000000'), 3), ('Private room in vacation home', Decimal('5.000000000'), 1), ('Barn', Decimal('5.000000000'), 1), ('Private room in barn', Decimal('5.000000000'), 1)]\n",
      "time used for this query is 0.010784626007080078s\n"
     ]
    }
   ],
   "source": [
    "# 5. find the top 10 property based on review score\n",
    "query = '''\n",
    "SELECT property_type, average_score, frequency\n",
    "FROM \n",
    "    (SELECT property_type, AVG(review_scores_rating) as average_score, COUNT(*) as frequency\n",
    "        FROM listing\n",
    "        WHERE review_scores_rating IS NOT NULL\n",
    "        GROUP BY property_type\n",
    "    ) as new_table\n",
    "ORDER BY average_score DESC\n",
    "LIMIT 10\n",
    "'''\n",
    "start_time = time.time()\n",
    "cursor.execute(query)\n",
    "print(cursor.fetchall())\n",
    "print('time used for this query is ', time.time() - start_time, 's', sep = '')"
   ]
  },
  {
   "cell_type": "code",
   "execution_count": 9,
   "id": "25ba0b18",
   "metadata": {},
   "outputs": [
    {
     "name": "stdout",
     "output_type": "stream",
     "text": [
      "[('Entire bed and breakfast', Decimal('3.816666666'), 3), ('Private room in floor', Decimal('4.000000000'), 1), ('Entire home/apt', Decimal('4.037500000'), 8), ('Shared room in cave', Decimal('4.250000000'), 1), ('Shared room in rental unit', Decimal('4.284285714'), 7), ('Private room', Decimal('4.340000000'), 23), ('Shared room in bed and breakfast', Decimal('4.366666666'), 12), ('Private room in serviced apartment', Decimal('4.460396039'), 101), ('Entire place', Decimal('4.465000000'), 14), ('Room in aparthotel', Decimal('4.484400000'), 75)]\n",
      "time used for this query is 0.009935379028320312s\n"
     ]
    }
   ],
   "source": [
    "# 6. find the bottom 10 property based on review score\n",
    "query = '''\n",
    "SELECT property_type, average_score, frequency\n",
    "FROM \n",
    "    (SELECT property_type, AVG(review_scores_rating) as average_score, COUNT(*) as frequency\n",
    "        FROM listing\n",
    "        WHERE review_scores_rating IS NOT NULL\n",
    "        GROUP BY property_type\n",
    "    ) as new_table\n",
    "ORDER BY average_score\n",
    "LIMIT 10\n",
    "'''\n",
    "start_time = time.time()\n",
    "cursor.execute(query)\n",
    "print(cursor.fetchall())\n",
    "print('time used for this query is ', time.time() - start_time, 's', sep = '')"
   ]
  },
  {
   "cell_type": "code",
   "execution_count": 10,
   "id": "8b7e117a",
   "metadata": {},
   "outputs": [
    {
     "name": "stdout",
     "output_type": "stream",
     "text": [
      "[(5735895, 'Pariya', Decimal('963339100.00'), 3, Decimal('2500.000000')), (2129668, 'Wimonpak', Decimal('289880984.00'), 40, Decimal('914.425000')), (12464021, 'Rebecca', Decimal('95851520.00'), 21, Decimal('1321.190476')), (12200313, 'Immortal', Decimal('60607920.00'), 4, Decimal('1237.000000')), (19266319, 'Alex', Decimal('59097771.00'), 33, Decimal('1257.666667')), (214380438, 'Lucy', Decimal('49533210.00'), 13, Decimal('1480.846154')), (219301393, 'Jack', Decimal('37237410.00'), 9, Decimal('1930.000000')), (133849226, 'Aidan', Decimal('34845340.00'), 19, Decimal('1942.421053')), (118743647, 'Kate', Decimal('32868000.00'), 4, Decimal('987.500000')), (50093904, 'Leng', Decimal('31025400.00'), 1, Decimal('1050.000000'))]\n",
      "time used for this query is 0.10062122344970703s\n"
     ]
    }
   ],
   "source": [
    "# 1. Find the top host based on the total earnings of all his listings\n",
    "query = '''\n",
    "SELECT host_id, host_name, SUM(total_earning) as total_earning, COUNT(*) as number_of_listing, AVG(price) as average_price\n",
    "FROM\n",
    "    (SELECT listing.host_id, host.host_name, price, number_of_reviews, minimum_nights, \n",
    "            price * number_of_reviews * minimum_nights as total_earning\n",
    "    FROM listing\n",
    "    LEFT JOIN host\n",
    "    ON listing.host_id = host.host_id\n",
    "    WHERE host_name IS NOT NULL\n",
    "    ) as new_table\n",
    "GROUP BY host_id, host_name\n",
    "ORDER BY SUM(total_earning) DESC\n",
    "LIMIT 10\n",
    "'''\n",
    "start_time = time.time()\n",
    "cursor.execute(query)\n",
    "print(cursor.fetchall())\n",
    "print('time used for this query is ', time.time() - start_time, 's', sep = '')"
   ]
  },
  {
   "cell_type": "code",
   "execution_count": 11,
   "id": "79306eeb",
   "metadata": {},
   "outputs": [
    {
     "name": "stdout",
     "output_type": "stream",
     "text": [
      "[(12, 2009, 1), (1, 2010, 2), (4, 2010, 1), (5, 2010, 5), (6, 2010, 4), (8, 2010, 2), (10, 2010, 1), (11, 2010, 5), (12, 2010, 1), (1, 2011, 1)]\n",
      "time used for this query is 0.002920866012573242s\n"
     ]
    }
   ],
   "source": [
    "# 2. Find the number of host joined monthly \n",
    "query = '''\n",
    "SELECT MONTH(host_since) as month, YEAR(host_since) as year,  COUNT(*) as number_of_host_joined\n",
    "FROM host\n",
    "WHERE host_since IS NOT NULL\n",
    "GROUP BY month, year\n",
    "LIMIT 10\n",
    "        \n",
    "'''\n",
    "start_time = time.time()\n",
    "cursor.execute(query)\n",
    "print(cursor.fetchall())\n",
    "print('time used for this query is ', time.time() - start_time, 's', sep = '')"
   ]
  },
  {
   "cell_type": "code",
   "execution_count": 12,
   "id": "434959af",
   "metadata": {},
   "outputs": [
    {
     "name": "stdout",
     "output_type": "stream",
     "text": [
      "[(58920, 'Gael', \"['email', 'phone']\", 1), (70413, 'Patiyuth', \"['email', 'phone']\", 0), (73905, 'Amornpan', \"['email', 'phone']\", 0), (108793, 'Eddie', \"['email', 'phone']\", 1), (120437, 'Nuttee', \"['email', 'phone']\", 1), (120541, 'Emy', \"['email', 'phone']\", 0), (123784, 'Familyroom', \"['email', 'phone']\", 0), (124102, 'Giacomo & Rolly', \"['email', 'phone']\", 1), (132322, 'Dasiri Property', \"['email', 'phone']\", 1), (152863, 'Nuj', \"['email', 'phone']\", 0)]\n",
      "time used for this query is 0.0018055438995361328s\n"
     ]
    }
   ],
   "source": [
    "# 3. find the most commonly verified host information\n",
    "query = '''\n",
    "SELECT host_id, host_name, host_verifications, host_identity_verified\n",
    "FROM host\n",
    "WHERE host_identity_verified IS NOT NULL\n",
    "LIMIT 10\n",
    "'''\n",
    "start_time = time.time()\n",
    "cursor.execute(query)\n",
    "print(cursor.fetchall())\n",
    "print('time used for this query is ', time.time() - start_time, 's', sep = '')"
   ]
  },
  {
   "cell_type": "code",
   "execution_count": 13,
   "id": "a9575684",
   "metadata": {},
   "outputs": [
    {
     "name": "stdout",
     "output_type": "stream",
     "text": [
      "[(201677068, 'Curry', 195), (39669202, 'Rfh', 102), (52161947, 'Noons', 81), (26736483, 'K', 71), (187786849, 'Gravity', 65), (228535635, 'Pornchai', 62), (68154488, 'Dusadee', 62), (279089737, 'Oyo', 56), (8444643, 'Kiattisak', 55), (151331046, '卡乐乐', 52)]\n",
      "time used for this query is 0.01588749885559082s\n"
     ]
    }
   ],
   "source": [
    "# 4. find the top 10 host with most listings\n",
    "query = '''\n",
    "SELECT listing.host_id, host.host_name, COUNT(listing.listing_id) as number_of_listings\n",
    "FROM listing LEFT JOIN host\n",
    "ON listing.host_id = host.host_id\n",
    "GROUP BY listing.host_id, host.host_name\n",
    "ORDER BY number_of_listings DESC\n",
    "LIMIT 10\n",
    "'''\n",
    "start_time = time.time()\n",
    "cursor.execute(query)\n",
    "print(cursor.fetchall())\n",
    "print('time used for this query is ', time.time() - start_time, 's', sep = '')"
   ]
  },
  {
   "cell_type": "code",
   "execution_count": 14,
   "id": "bf2d4e33",
   "metadata": {},
   "outputs": [
    {
     "name": "stdout",
     "output_type": "stream",
     "text": [
      "[(28374239, 'Onnut BTS Sky Train', 'Shared room in hostel', Decimal('1500000.00')), (41578696, '超奢华私家庄园泳池別墅配豪車保姆', 'Entire villa', Decimal('303309.00')), (13033135, 'Airport-MRT-ShowShopFood-FullFN', 'Private room in home', Decimal('300000.00')), (12056763, 'Charoenkrung Road House/Office Rent', 'Entire home', Decimal('300000.00')), (29970931, '公寓', 'Entire rental unit', Decimal('263896.00')), (32417909, 'asok2', 'Entire condo', Decimal('100000.00')), (4450156, 'Stylish Apartment in Bangkok, MRT', 'Entire rental unit', Decimal('100000.00')), (37841724, 'Suvarnabhumi Pool Villa', 'Dome', Decimal('99999.00')), (37755073, 'พูลวิลล่า สุวรรณภูมิ', 'Dome', Decimal('99999.00')), (37841704, 'Airport Pool Villa', 'Dome', Decimal('99999.00'))]\n",
      "time used for this query is 0.00928187370300293s\n"
     ]
    }
   ],
   "source": [
    "# 1. find the top 10 listings with lowest price\n",
    "query = '''\n",
    "SELECT listing_id,name,property_type,price\n",
    "FROM listing\n",
    "ORDER BY price DESC\n",
    "LIMIT 10\n",
    "'''\n",
    "start_time = time.time()\n",
    "cursor.execute(query)\n",
    "print(cursor.fetchall())\n",
    "print('time used for this query is ', time.time() - start_time, 's', sep = '')"
   ]
  },
  {
   "cell_type": "code",
   "execution_count": 15,
   "id": "bfb35b79",
   "metadata": {},
   "outputs": [
    {
     "name": "stdout",
     "output_type": "stream",
     "text": [
      "[(20869092, 'Beautiful One Bedroom Apartment Near skytrain', 'Entire serviced apartment', 1119), (31077175, 'FREE PICK UP⭐BKK AIRPORT/BREAKFAST/PRIVATE DELUXE', 'Private room in hostel', 673), (9453790, \"37 Nature House: 10 mins to DMK Int'l Airport\", 'Entire cabin', 521), (5964843, 'The Mustang Nero/No.4 The Horse', 'Room in hotel', 480), (6013487, 'The Mustang Nero/No.3 The Wolf', 'Room in hotel', 471), (1026451, '♡Chic Studio, Easy Walk to Pier & BTS Taksin♡', 'Entire rental unit', 449), (11753619, 'near DMK: Don Mueang International Airport', 'Private room in townhouse', 448), (6033632, 'The Mustang Nero/No.2 Black Bird', 'Room in hotel', 426), (393066, '✺✺99 feet in the sky✺✺', 'Entire rental unit', 424), (605314, '☀ ☼Sky bedroom with a smooth life view☼☀', 'Entire rental unit', 422)]\n",
      "time used for this query is 0.00855398178100586s\n"
     ]
    }
   ],
   "source": [
    "# 2. find the top 10 listings with highest number of reviews\n",
    "query = '''\n",
    "SELECT listing_id,name,property_type,number_of_reviews\n",
    "FROM listing\n",
    "ORDER BY number_of_reviews DESC\n",
    "LIMIT 10\n",
    "'''\n",
    "start_time = time.time()\n",
    "cursor.execute(query)\n",
    "print(cursor.fetchall())\n",
    "print('time used for this query is ', time.time() - start_time, 's', sep = '')"
   ]
  },
  {
   "cell_type": "code",
   "execution_count": 16,
   "id": "11d5dab1",
   "metadata": {},
   "outputs": [
    {
     "name": "stdout",
     "output_type": "stream",
     "text": [
      "[(884503, 'Luxury, resort-like downtown pad', 'Private room in condo', Decimal('5.00000')), (1665970, '1 Bedroom with a Double Bed- 2 guests', 'Entire rental unit', Decimal('5.00000')), (527553, 'Beautiful Apt @ Ratchayothin BTS, Free Wifi', 'Entire condo', Decimal('5.00000')), (1400351, 'Studio in Beung Kum', 'Private room in rental unit', Decimal('5.00000')), (61000, 'Apt.@Pinklao near shopping mall', 'Entire condo', Decimal('5.00000')), (491533, 'Furnished room near BTS Sai Yud', 'Private room in rental unit', Decimal('5.00000')), (430706, '7. Bangkok big bright Apartment 402', 'Entire rental unit', Decimal('5.00000')), (1665776, '1 Bedroom with Twin Beds- 2 guests', 'Entire rental unit', Decimal('5.00000')), (1642375, 'Deluxe studio 45sqm,TheUpRama3,Kitchen,Kid’sClub', 'Room in hotel', Decimal('5.00000')), (1576253, 'Luxury 2BR Condo @ The River Hi Flr', 'Entire condo', Decimal('5.00000'))]\n",
      "time used for this query is 0.008774995803833008s\n"
     ]
    }
   ],
   "source": [
    "# 3. find the top 10 listings with the highest rating score.\n",
    "query = '''\n",
    "SELECT listing_id,name,property_type,review_scores_rating\n",
    "FROM listing\n",
    "WHERE review_scores_rating IS NOT NULL\n",
    "ORDER BY review_scores_rating DESC\n",
    "LIMIT 10\n",
    "'''\n",
    "start_time = time.time()\n",
    "cursor.execute(query)\n",
    "print(cursor.fetchall())\n",
    "print('time used for this query is ', time.time() - start_time, 's', sep = '')"
   ]
  },
  {
   "cell_type": "code",
   "execution_count": 17,
   "id": "07522220",
   "metadata": {},
   "outputs": [
    {
     "name": "stdout",
     "output_type": "stream",
     "text": [
      "[(491533, 'Furnished room near BTS Sai Yud', 'Private room in rental unit', Decimal('5.00000')), (1400351, 'Studio in Beung Kum', 'Private room in rental unit', Decimal('5.00000')), (527553, 'Beautiful Apt @ Ratchayothin BTS, Free Wifi', 'Entire condo', Decimal('5.00000')), (1420577, 'River view near ICON SIAM 74sqm. Free pick up', 'Entire condo', Decimal('5.00000')), (61000, 'Apt.@Pinklao near shopping mall', 'Entire condo', Decimal('5.00000')), (888304, 'Cozy Apt @ Ratchayothin BTS Great Facility', 'Entire condo', Decimal('5.00000')), (884503, 'Luxury, resort-like downtown pad', 'Private room in condo', Decimal('5.00000')), (1629978, 'iSanook Eco Studio', 'Private room in rental unit', Decimal('5.00000')), (1630813, 'iSanook Suite Deluxe 45 sqm', 'Private room in rental unit', Decimal('5.00000')), (430706, '7. Bangkok big bright Apartment 402', 'Entire rental unit', Decimal('5.00000'))]\n",
      "time used for this query is 0.008318662643432617s\n"
     ]
    }
   ],
   "source": [
    "# 4. find the top 10 listings with the highest cleaniness score.\n",
    "query = '''\n",
    "SELECT listing_id,name,property_type,review_scores_cleanliness\n",
    "FROM listing\n",
    "WHERE review_scores_cleanliness IS NOT NULL\n",
    "ORDER BY review_scores_cleanliness DESC\n",
    "LIMIT 10\n",
    "'''\n",
    "start_time = time.time()\n",
    "cursor.execute(query)\n",
    "print(cursor.fetchall())\n",
    "print('time used for this query is ', time.time() - start_time, 's', sep = '')"
   ]
  },
  {
   "cell_type": "code",
   "execution_count": 18,
   "id": "90adb573",
   "metadata": {},
   "outputs": [
    {
     "name": "stdout",
     "output_type": "stream",
     "text": [
      "[(1665776, '1 Bedroom with Twin Beds- 2 guests', 'Entire rental unit', Decimal('5.00000')), (491533, 'Furnished room near BTS Sai Yud', 'Private room in rental unit', Decimal('5.00000')), (2014542, 'Calm condo 6-meter away to BTS Line', 'Entire rental unit', Decimal('5.00000')), (1642375, 'Deluxe studio 45sqm,TheUpRama3,Kitchen,Kid’sClub', 'Room in hotel', Decimal('5.00000')), (2960072, '2BR Family friendly B&B in old town BKK', 'Room in boutique hotel', Decimal('5.00000')), (1141969, 'Great location on a charming loft', 'Entire condo', Decimal('5.00000')), (2842313, 'Riverside city5mins BTS can sleep 3', 'Entire rental unit', Decimal('5.00000')), (1665970, '1 Bedroom with a Double Bed- 2 guests', 'Entire rental unit', Decimal('5.00000')), (1933894, 'Newly Renovated! 3Br,Single House/Park/BTS/Airport', 'Entire home', Decimal('5.00000')), (884503, 'Luxury, resort-like downtown pad', 'Private room in condo', Decimal('5.00000'))]\n",
      "time used for this query is 0.008516550064086914s\n"
     ]
    }
   ],
   "source": [
    "# 5. find the top 10 listing with the highest location score.\n",
    "query = '''\n",
    "SELECT listing_id,name,property_type,review_scores_location\n",
    "FROM listing\n",
    "WHERE review_scores_location IS NOT NULL\n",
    "ORDER BY review_scores_location DESC\n",
    "LIMIT 10\n",
    "'''\n",
    "start_time = time.time()\n",
    "cursor.execute(query)\n",
    "print(cursor.fetchall())\n",
    "print('time used for this query is ', time.time() - start_time, 's', sep = '')"
   ]
  },
  {
   "cell_type": "code",
   "execution_count": 19,
   "id": "9ff1e615",
   "metadata": {},
   "outputs": [
    {
     "name": "stdout",
     "output_type": "stream",
     "text": [
      "[(158654054, 'Erica', '99%'), (151331046, '卡乐乐', '99%'), (21970931, 'Nui', '99%'), (314945555, 'Nana', '99%'), (47324488, 'Tony', '99%'), (218032956, 'Heart', '98%'), (79722098, 'Nuan', '98%'), (50050657, 'Wipa', '98%'), (207453281, 'Hua', '98%'), (104122286, 'Laksanara', '98%')]\n",
      "time used for this query is 0.0028607845306396484s\n"
     ]
    }
   ],
   "source": [
    "# 6. find the top 10 host that has the highest response rate.\n",
    "query = '''\n",
    "SELECT host_id,host_name, host_response_rate\n",
    "FROM host\n",
    "ORDER BY host_response_rate DESC\n",
    "LIMIT 10\n",
    "'''\n",
    "start_time = time.time()\n",
    "cursor.execute(query)\n",
    "print(cursor.fetchall())\n",
    "print('time used for this query is ', time.time() - start_time, 's', sep = '')"
   ]
  },
  {
   "cell_type": "code",
   "execution_count": null,
   "id": "f3ad6d15",
   "metadata": {},
   "outputs": [],
   "source": []
  },
  {
   "cell_type": "code",
   "execution_count": 85,
   "id": "caa376c3",
   "metadata": {},
   "outputs": [],
   "source": [
    "# given a review id and a date range, check whether the host of reviewed listing has other listings that are available within the given date range\n",
    "\n",
    "def check_availability(reviewid, start_date, end_date):\n",
    "    # date_range = [i.strftime('%Y-%m-%d') for i in pd.date_range(start=datetime.datetime.strptime(start_date, '%Y-%m-%d'), end=datetime.datetime.strptime(end_date, '%Y-%m-%d')).to_pydatetime().tolist()]\n",
    "    query = f'''\n",
    "        WITH \n",
    "            listingHost AS(\n",
    "                SELECT host_id AS hostid\n",
    "                FROM listing\n",
    "                WHERE listing_id = (SELECT listing_id FROM review WHERE id={reviewid})\n",
    "            ),\n",
    "            \n",
    "            other_listings AS(\n",
    "                SELECT listing_id AS listingid\n",
    "                FROM listing\n",
    "                WHERE host_id = (SELECT hostid FROM listingHost)\n",
    "            ),\n",
    "            \n",
    "            listing_availability AS(\n",
    "                SELECT listing_id AS listingid\n",
    "                    , MIN(available) AS availability\n",
    "                FROM calendar\n",
    "                WHERE 1 = 1 \n",
    "                    AND listing_id IN (SELECT listingid FROM other_listings)\n",
    "                    AND listing_id <> (SELECT listing_id FROM review WHERE id={reviewid})\n",
    "                    AND date BETWEEN '{start_date}' AND '{end_date}'\n",
    "                GROUP BY listing_id\n",
    "            )\n",
    "            \n",
    "        SELECT listingid\n",
    "        FROM listing_availability\n",
    "        WHERE availability = 1\n",
    "    '''\n",
    "    \n",
    "    cursor.execute(query)\n",
    "    return cursor.fetchall()\n"
   ]
  },
  {
   "cell_type": "code",
   "execution_count": 86,
   "id": "d8b0b404",
   "metadata": {},
   "outputs": [
    {
     "data": {
      "text/plain": [
       "[(1094339, 27934),\n",
       " (85867988, 35780),\n",
       " (200452, 55681),\n",
       " (180261, 55686),\n",
       " (181226, 61000),\n",
       " (25689093, 66046),\n",
       " (22920345, 145343),\n",
       " (885846, 156583),\n",
       " (829590, 159854),\n",
       " (902543, 166267)]"
      ]
     },
     "execution_count": 86,
     "metadata": {},
     "output_type": "execute_result"
    }
   ],
   "source": [
    "cursor.execute('select MIN(id), listing_id from review GROUP BY listing_id limit 10')\n",
    "cursor.fetchall()"
   ]
  },
  {
   "cell_type": "code",
   "execution_count": 90,
   "id": "8dfb0443",
   "metadata": {},
   "outputs": [
    {
     "name": "stdout",
     "output_type": "stream",
     "text": [
      "[(397449,)]\n",
      "time used for this query is 0.011170148849487305s\n"
     ]
    }
   ],
   "source": [
    "start_time = time.time()\n",
    "res = check_availability(200452, '2022-06-30', '2023-02-01')\n",
    "print(res)\n",
    "print('time used for this query is ', time.time() - start_time, 's', sep = '')"
   ]
  },
  {
   "cell_type": "code",
   "execution_count": null,
   "id": "89e28069",
   "metadata": {},
   "outputs": [],
   "source": []
  }
 ],
 "metadata": {
  "kernelspec": {
   "display_name": "Python 3 (ipykernel)",
   "language": "python",
   "name": "python3"
  },
  "language_info": {
   "codemirror_mode": {
    "name": "ipython",
    "version": 3
   },
   "file_extension": ".py",
   "mimetype": "text/x-python",
   "name": "python",
   "nbconvert_exporter": "python",
   "pygments_lexer": "ipython3",
   "version": "3.10.6"
  }
 },
 "nbformat": 4,
 "nbformat_minor": 5
}
