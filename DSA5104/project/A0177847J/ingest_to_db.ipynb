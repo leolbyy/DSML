{
 "cells": [
  {
   "cell_type": "code",
   "execution_count": 1,
   "metadata": {},
   "outputs": [],
   "source": [
    "import pandas as pd\n",
    "import numpy as np\n",
    "import mysql.connector\n",
    "\n",
    "import random\n",
    "import datetime\n",
    "import time\n",
    "\n",
    "import warnings\n",
    "warnings.filterwarnings('ignore')"
   ]
  },
  {
   "cell_type": "code",
   "execution_count": 2,
   "metadata": {},
   "outputs": [],
   "source": [
    "pd.options.display.max_columns = None"
   ]
  },
  {
   "cell_type": "markdown",
   "metadata": {},
   "source": [
    "# 1 Read data and preprocess"
   ]
  },
  {
   "cell_type": "markdown",
   "metadata": {},
   "source": [
    "## 1.1 Read and preprocess listing data"
   ]
  },
  {
   "cell_type": "code",
   "execution_count": 3,
   "metadata": {},
   "outputs": [],
   "source": [
    "listing = pd.read_csv('listings.csv', encoding='utf-8')"
   ]
  },
  {
   "cell_type": "code",
   "execution_count": 4,
   "metadata": {},
   "outputs": [],
   "source": [
    "cols_to_drop = [\n",
    "    'scrape_id',\n",
    "    'last_scraped', \n",
    "    'host_total_listings_count', \n",
    "    'bathrooms', \n",
    "    'calendar_updated', \n",
    "    'calendar_last_scraped', \n",
    "    'license',\n",
    "    'neighbourhood_group_cleansed'\n",
    "]"
   ]
  },
  {
   "cell_type": "code",
   "execution_count": 5,
   "metadata": {},
   "outputs": [],
   "source": [
    "listing.drop(cols_to_drop, axis = 1, inplace = True)"
   ]
  },
  {
   "cell_type": "code",
   "execution_count": 6,
   "metadata": {},
   "outputs": [],
   "source": [
    "### drop na for some columns\n",
    "dropna_cols = [\n",
    "    'name',\n",
    "    'host_name',\n",
    "    'host_since',\n",
    "    'host_location',\n",
    "    'host_is_superhost',\n",
    "    'host_thumbnail_url',\n",
    "    'host_picture_url',\n",
    "    'host_listings_count',\n",
    "    'host_has_profile_pic',\n",
    "    'minimum_minimum_nights',\n",
    "    'maximum_minimum_nights',\n",
    "    'minimum_maximum_nights',\n",
    "    'maximum_maximum_nights',\n",
    "    'minimum_nights_avg_ntm',\n",
    "    'maximum_nights_avg_ntm'\n",
    "]\n",
    "listing.dropna(subset = dropna_cols, inplace=True)"
   ]
  },
  {
   "cell_type": "code",
   "execution_count": 7,
   "metadata": {},
   "outputs": [],
   "source": [
    "# some column has nan stored as string\n",
    "listing = listing[listing.host_name != 'Nan']"
   ]
  },
  {
   "cell_type": "code",
   "execution_count": 8,
   "metadata": {},
   "outputs": [],
   "source": [
    "fillna_values = {\n",
    "    'bathrooms_text': '0 bath',\n",
    "    'bedrooms' : 0,\n",
    "    'beds': 0,\n",
    "}"
   ]
  },
  {
   "cell_type": "code",
   "execution_count": 9,
   "metadata": {},
   "outputs": [],
   "source": [
    "listing.fillna(fillna_values, inplace=True)"
   ]
  },
  {
   "cell_type": "code",
   "execution_count": 10,
   "metadata": {},
   "outputs": [],
   "source": [
    "listing = listing[(listing.host_acceptance_rate.notnull()) | (listing.first_review.isnull())]"
   ]
  },
  {
   "cell_type": "code",
   "execution_count": 11,
   "metadata": {},
   "outputs": [],
   "source": [
    "listing['price'] = listing.price.apply(lambda x: x.replace(',', '').replace('$', ''))"
   ]
  },
  {
   "cell_type": "code",
   "execution_count": 12,
   "metadata": {},
   "outputs": [],
   "source": [
    "listing_type_dict = {\n",
    "    'host_is_superhost': bool,\n",
    "    'host_has_profile_pic': bool,\n",
    "    'host_identity_verified': bool,\n",
    "    'has_availability': bool,\n",
    "    'instant_bookable': bool,\n",
    "}"
   ]
  },
  {
   "cell_type": "code",
   "execution_count": 13,
   "metadata": {},
   "outputs": [],
   "source": [
    "for col in listing_type_dict.keys():\n",
    "    listing[col] = listing[col].apply(lambda x: True if x == 't' else False)"
   ]
  },
  {
   "cell_type": "markdown",
   "metadata": {},
   "source": [
    "## 1.2 Read and preprocess reviews data"
   ]
  },
  {
   "cell_type": "code",
   "execution_count": 14,
   "metadata": {},
   "outputs": [],
   "source": [
    "reviews = pd.read_csv('reviews.csv', encoding='utf-8')"
   ]
  },
  {
   "cell_type": "code",
   "execution_count": 15,
   "metadata": {},
   "outputs": [],
   "source": [
    "reviews = reviews.dropna()"
   ]
  },
  {
   "cell_type": "markdown",
   "metadata": {},
   "source": [
    "## 1.3 Read and proprocess calendar data"
   ]
  },
  {
   "cell_type": "code",
   "execution_count": 16,
   "metadata": {},
   "outputs": [],
   "source": [
    "# calendar = pd.read_csv('calendar.csv', encoding='utf-8')"
   ]
  },
  {
   "cell_type": "code",
   "execution_count": 17,
   "metadata": {},
   "outputs": [],
   "source": [
    "# calendar['price'] = calendar.price.apply(lambda x: x.replace(',', '').replace('$', ''))\n",
    "# calendar['adjusted_price'] = calendar.adjusted_price.apply(lambda x: x.replace(',', '').replace('$', ''))"
   ]
  },
  {
   "cell_type": "code",
   "execution_count": 18,
   "metadata": {},
   "outputs": [],
   "source": [
    "# calendar_type_dict = {\n",
    "#     'available': bool,\n",
    "# }"
   ]
  },
  {
   "cell_type": "code",
   "execution_count": 19,
   "metadata": {},
   "outputs": [],
   "source": [
    "# calendar = calendar.astype(calendar_type_dict)"
   ]
  },
  {
   "cell_type": "markdown",
   "metadata": {},
   "source": [
    "# 2 Transfer Pandas dataframe to numpy to insert into mysql"
   ]
  },
  {
   "cell_type": "code",
   "execution_count": 20,
   "metadata": {},
   "outputs": [],
   "source": [
    "host_table = listing.loc[:, ['host_id',\n",
    "                             'host_url',\n",
    "                             'host_name',\n",
    "                             'host_since',\n",
    "                             'host_location',\n",
    "                             'host_about',\n",
    "                             'host_response_time',\n",
    "                             'host_response_rate',\n",
    "                             'host_acceptance_rate',\n",
    "                             'host_is_superhost',\n",
    "                             'host_thumbnail_url',\n",
    "                             'host_picture_url',\n",
    "                             'host_neighbourhood',\n",
    "                             'host_listings_count',\n",
    "                             'host_verifications',\n",
    "                             'host_has_profile_pic',\n",
    "                             'host_identity_verified']].drop_duplicates().to_numpy()\n",
    "host_table = [tuple(i) for i in host_table]\n",
    "# host_table = [tuple(i) for i in host_table if (i[5] is np.nan or len(i[5]) <= 1000)]"
   ]
  },
  {
   "cell_type": "code",
   "execution_count": 21,
   "metadata": {
    "scrolled": true
   },
   "outputs": [],
   "source": [
    "listing_table = listing.loc[:, ['id', 'listing_url', 'name', 'description', 'neighborhood_overview', \n",
    "                                'picture_url', 'host_id', 'neighbourhood', 'neighbourhood_cleansed', \n",
    "                               'latitude', 'longitude', 'property_type', 'room_type', 'accommodates', \n",
    "                               'bathrooms_text', 'beds', 'amenities', 'price', 'minimum_nights', 'maximum_nights',\n",
    "                               'minimum_minimum_nights', 'maximum_minimum_nights', 'minimum_maximum_nights', \n",
    "                               'maximum_maximum_nights', 'minimum_nights_avg_ntm', 'maximum_nights_avg_ntm', \n",
    "                               'has_availability', 'availability_30', 'availability_60', 'availability_90',\n",
    "                               'availability_365', 'number_of_reviews', 'number_of_reviews_ltm',\n",
    "                               'number_of_reviews_l30d', 'first_review', 'last_review', 'review_scores_rating',\n",
    "                                'review_scores_accuracy', 'review_scores_cleanliness', 'review_scores_checkin', \n",
    "                                'review_scores_communication', 'review_scores_location', 'review_scores_value',\n",
    "                                'instant_bookable', 'reviews_per_month', 'calculated_host_listings_count', \n",
    "                                'calculated_host_listings_count_entire_homes', \n",
    "                                'calculated_host_listings_count_private_rooms', \n",
    "                                'calculated_host_listings_count_shared_rooms']].drop_duplicates().to_numpy()\n",
    "listing_table = [tuple(i) for i in listing_table]"
   ]
  },
  {
   "cell_type": "code",
   "execution_count": 22,
   "metadata": {},
   "outputs": [],
   "source": [
    "reviewer_table = reviews.loc[:, ['reviewer_id', 'reviewer_name']].drop_duplicates().to_numpy()\n",
    "reviewer_table = [tuple(i) for i in reviewer_table]"
   ]
  },
  {
   "cell_type": "code",
   "execution_count": 23,
   "metadata": {},
   "outputs": [],
   "source": [
    "review_table = reviews.loc[:, ['id', 'listing_id', 'reviewer_id', 'comments', 'date']].drop_duplicates().to_numpy()\n",
    "review_table = [tuple(i) for i in review_table if (i[1] in listing.id.values and i[0] != 35507141)]"
   ]
  },
  {
   "cell_type": "code",
   "execution_count": 24,
   "metadata": {},
   "outputs": [],
   "source": [
    "# calendar_table = calendar.drop_duplicates().to_numpy()\n",
    "# calendar_table = [tuple(i) for i in calendar_table if i[0] in listing.id.values]"
   ]
  },
  {
   "cell_type": "markdown",
   "metadata": {},
   "source": [
    "# 3 Connect Mysql"
   ]
  },
  {
   "cell_type": "code",
   "execution_count": 25,
   "metadata": {},
   "outputs": [],
   "source": [
    "db = mysql.connector.connect(\n",
    "  host=\"localhost\",\n",
    "  user=\"root\",\n",
    "  password=\"\",\n",
    "  database='project'\n",
    ")"
   ]
  },
  {
   "cell_type": "code",
   "execution_count": 26,
   "metadata": {},
   "outputs": [],
   "source": [
    "cursor = db.cursor()"
   ]
  },
  {
   "cell_type": "markdown",
   "metadata": {},
   "source": [
    "# 4 Create table in mysql database"
   ]
  },
  {
   "cell_type": "code",
   "execution_count": 27,
   "metadata": {},
   "outputs": [],
   "source": [
    "# drop table if already exist in database\n",
    "query = '''\n",
    "DROP TABLE IF EXISTS transaction, calendar, review, reviewer, listing, host CASCADE\n",
    "'''\n",
    "cursor.execute(query)"
   ]
  },
  {
   "cell_type": "code",
   "execution_count": 28,
   "metadata": {
    "scrolled": true
   },
   "outputs": [],
   "source": [
    "query = '''CREATE TABLE host(\n",
    "    host_id BIGINT,\n",
    "    host_url VARCHAR(5000),\n",
    "    host_name VARCHAR(100),\n",
    "    host_since DATE,\n",
    "    host_location VARCHAR(500),\n",
    "    host_about VARCHAR(6000),\n",
    "    host_response_time VARCHAR(50),\n",
    "    host_response_rate VARCHAR(50),\n",
    "    host_acceptance_rate VARCHAR(50),\n",
    "    host_is_superhost BOOLEAN,\n",
    "    host_thumbnail_url VARCHAR(500),\n",
    "    host_picture_url VARCHAR(500),\n",
    "    host_neighbourhood VARCHAR(50),\n",
    "    host_listings_count INT,\n",
    "    host_verifications VARCHAR(500),\n",
    "    host_has_profile_pic BOOLEAN,\n",
    "    host_identity_verified BOOLEAN,\n",
    "    PRIMARY KEY(host_id)\n",
    ")'''\n",
    "cursor.execute(query)"
   ]
  },
  {
   "cell_type": "code",
   "execution_count": 29,
   "metadata": {
    "scrolled": true
   },
   "outputs": [],
   "source": [
    "query = f'''\n",
    "    INSERT INTO host VALUES ({', '.join(['%s'] * 17)})\n",
    "'''\n",
    "cursor.executemany(query, host_table)\n",
    "del host_table"
   ]
  },
  {
   "cell_type": "code",
   "execution_count": 30,
   "metadata": {},
   "outputs": [],
   "source": [
    "query = '''\n",
    "CREATE TABLE listing(\n",
    "    listing_id BIGINT,\n",
    "    listing_url VARCHAR(100),\n",
    "    name VARCHAR(500),\n",
    "    description VARCHAR(2000),\n",
    "    neighborhood_overview VARCHAR(2000),\n",
    "    picture_url VARCHAR(500),\n",
    "    host_id BIGINT,\n",
    "    neighbourhood VARCHAR(100),\n",
    "    neighbourhood_cleansed VARCHAR(100),\n",
    "    latitude DECIMAL(25,18),\n",
    "    longitude DECIMAL(25, 18),\n",
    "    property_type VARCHAR(100),\n",
    "    room_type VARCHAR(100),\n",
    "    accommodates INT,\n",
    "    bathrooms_text VARCHAR(100),\n",
    "    beds INT,\n",
    "    amenities VARCHAR(2000),\n",
    "    price DECIMAL(10, 2),\n",
    "    minimum_nights INT,\n",
    "    maximum_nights INT,\n",
    "    minimum_minimum_nights INT,\n",
    "    maximum_minimum_nights INT,\n",
    "    minimum_maximum_nights INT,\n",
    "    maximum_maximum_nights INT,\n",
    "    minimum_nights_avg_ntm DECIMAL(16, 5),\n",
    "    maximum_nights_avg_ntm DECIMAL(16, 5),\n",
    "    has_availability BOOLEAN,\n",
    "    availability_30 INT,\n",
    "    availability_60 INT,\n",
    "    availability_90 INT,\n",
    "    availability_365 INT,\n",
    "    number_of_reviews INT,\n",
    "    number_of_reviews_ltm INT,\n",
    "    number_of_reviews_l30d INT,\n",
    "    first_review DATE,\n",
    "    last_review DATE,\n",
    "    review_scores_rating DECIMAL(10, 5),\n",
    "    review_scores_accuracy DECIMAL(10, 5),\n",
    "    review_scores_cleanliness DECIMAL(10, 5),\n",
    "    review_scores_checkin DECIMAL(10, 5),\n",
    "    review_scores_communication DECIMAL(10, 5),\n",
    "    review_scores_location DECIMAL(10, 5),\n",
    "    review_scores_value DECIMAL(10, 5),\n",
    "    instant_bookable BOOLEAN,\n",
    "    reviews_per_month DECIMAL(10, 5),\n",
    "    calculated_host_listings_count INT,\n",
    "    calculated_host_listings_count_entire_homes INT,\n",
    "    calculated_host_listings_count_private_rooms INT,\n",
    "    calculated_host_listings_count_shared_rooms INT,\n",
    "    PRIMARY KEY(listing_id),\n",
    "    FOREIGN KEY(host_id) REFERENCES host(host_id)\n",
    ")\n",
    "'''\n",
    "cursor.execute(query)"
   ]
  },
  {
   "cell_type": "code",
   "execution_count": 31,
   "metadata": {},
   "outputs": [],
   "source": [
    "query = f'''\n",
    "    INSERT INTO listing VALUES ({', '.join(['%s'] * 49)})\n",
    "'''\n",
    "cursor.executemany(query, listing_table)\n",
    "del listing_table"
   ]
  },
  {
   "cell_type": "code",
   "execution_count": 32,
   "metadata": {},
   "outputs": [],
   "source": [
    "query = '''\n",
    "CREATE TABLE reviewer (\n",
    "    reviewer_id BIGINT,\n",
    "    reviewer_name VARCHAR(50),\n",
    "    PRIMARY KEY (reviewer_id)\n",
    ")\n",
    "'''\n",
    "cursor.execute(query)"
   ]
  },
  {
   "cell_type": "code",
   "execution_count": 33,
   "metadata": {},
   "outputs": [],
   "source": [
    "query = f'''\n",
    "    INSERT INTO reviewer VALUES ({', '.join(['%s'] * 2)})\n",
    "'''\n",
    "cursor.executemany(query, reviewer_table)\n",
    "del reviewer_table"
   ]
  },
  {
   "cell_type": "code",
   "execution_count": 34,
   "metadata": {
    "scrolled": true
   },
   "outputs": [],
   "source": [
    "query = '''\n",
    "CREATE TABLE review (\n",
    "    id BIGINT,\n",
    "    listing_id BIGINT,\n",
    "    reviewer_id BIGINT,\n",
    "    comments VARCHAR(6000),\n",
    "    date DATE,\n",
    "    PRIMARY KEY (id),\n",
    "    FOREIGN KEY (reviewer_id) REFERENCES reviewer(reviewer_id),\n",
    "    FOREIGN KEY (listing_id) REFERENCES listing(listing_id)\n",
    ")\n",
    "'''\n",
    "cursor.execute(query)"
   ]
  },
  {
   "cell_type": "code",
   "execution_count": 35,
   "metadata": {},
   "outputs": [],
   "source": [
    "query = f'''\n",
    "    INSERT INTO review VALUES ({', '.join(['%s'] * 5)})\n",
    "'''\n",
    "cursor.executemany(query, review_table)"
   ]
  },
  {
   "cell_type": "code",
   "execution_count": 36,
   "metadata": {},
   "outputs": [],
   "source": [
    "query = '''\n",
    "CREATE TABLE calendar (\n",
    "    listing_id BIGINT,\n",
    "    date DATE,\n",
    "    available BOOLEAN,\n",
    "    price DECIMAL(16,5),\n",
    "    adjusted_price DECIMAL(16,5),\n",
    "    minimum_nights INT,\n",
    "    maximum_nights INT,\n",
    "    FOREIGN KEY (listing_id) REFERENCES listing(listing_id)\n",
    ")\n",
    "'''\n",
    "cursor.execute(query)"
   ]
  },
  {
   "cell_type": "code",
   "execution_count": 37,
   "metadata": {},
   "outputs": [],
   "source": [
    "calendar_df = pd.read_csv('calendar.csv', encoding='utf-8', chunksize=4096 * 8)"
   ]
  },
  {
   "cell_type": "code",
   "execution_count": 38,
   "metadata": {
    "scrolled": true
   },
   "outputs": [
    {
     "name": "stdout",
     "output_type": "stream",
     "text": [
      "0\n",
      "10\n",
      "20\n",
      "30\n",
      "40\n",
      "50\n",
      "60\n",
      "70\n",
      "80\n",
      "90\n",
      "100\n",
      "110\n",
      "120\n",
      "130\n",
      "140\n",
      "150\n",
      "160\n",
      "170\n",
      "180\n",
      "190\n"
     ]
    }
   ],
   "source": [
    "query = f'''\n",
    "    INSERT INTO calendar VALUES ({', '.join(['%s'] * 7)})\n",
    "'''\n",
    "count = 0\n",
    "for i in calendar_df:\n",
    "    if count % 10 == 0:\n",
    "        print(count)\n",
    "    count += 1\n",
    "    i['price'] = i.price.apply(lambda x: x.replace(',', '').replace('$', ''))\n",
    "    i['adjusted_price'] = i.adjusted_price.apply(lambda x: x.replace(',', '').replace('$', ''))\n",
    "    i['available'] = i['available'].apply(lambda x: True if x == 't' else False)\n",
    "    calendar_table = i.drop_duplicates().to_numpy()\n",
    "    calendar_table = [tuple(i) for i in calendar_table if i[0] in listing.id.values]\n",
    "    cursor.executemany(query, calendar_table)"
   ]
  },
  {
   "cell_type": "code",
   "execution_count": 39,
   "metadata": {},
   "outputs": [],
   "source": [
    "# query = f'''\n",
    "#     INSERT INTO calendar VALUES ({', '.join(['%s'] * 7)})\n",
    "# '''\n",
    "# cursor.executemany(query, calendar_table)\n",
    "# del calendar_table"
   ]
  },
  {
   "cell_type": "code",
   "execution_count": 40,
   "metadata": {},
   "outputs": [],
   "source": [
    "query = '''\n",
    "CREATE TABLE transaction (\n",
    "    transaction_id BIGINT,\n",
    "    reviewer_id BIGINT,\n",
    "    listing_id BIGINT,\n",
    "    transcation_time DATE,\n",
    "    check_in_date DATE,\n",
    "    check_out_date DATE,\n",
    "    actual_check_in_date DATE,\n",
    "    total_cost DECIMAL(16, 5),\n",
    "    Num_days_stayed INT,\n",
    "    PRIMARY KEY (transaction_id),\n",
    "    FOREIGN KEY (reviewer_id) REFERENCES reviewer(reviewer_id),\n",
    "    FOREIGN KEY (listing_id) REFERENCES listing(listing_id)\n",
    ")\n",
    "'''\n",
    "cursor.execute(query)"
   ]
  },
  {
   "cell_type": "code",
   "execution_count": 41,
   "metadata": {},
   "outputs": [],
   "source": [
    "selected_reviews = random.choices(review_table, k = 1000)\n",
    "    "
   ]
  },
  {
   "cell_type": "code",
   "execution_count": 42,
   "metadata": {},
   "outputs": [],
   "source": [
    "for i, review in enumerate(selected_reviews):\n",
    "    reviewer_id = review[2]\n",
    "    listing_id = review[1]\n",
    "    review_date = review[4]\n",
    "    \n",
    "    check_in = np.random.randint(low = 4, high = 20)\n",
    "    actual_check_in = np.random.randint(low = 0, high = 2)\n",
    "    check_out = np.random.randint(low = 0, high = check_in - actual_check_in)\n",
    "    transaction_ndays = np.random.randint(low = 3, high = 100)\n",
    "    \n",
    "    date_format = '%Y-%m-%d'\n",
    "    \n",
    "    check_in_date = datetime.datetime.strptime(review_date, date_format) - datetime.timedelta(days=check_in)\n",
    "    actual_check_in_date = check_in_date + datetime.timedelta(days=actual_check_in)\n",
    "    check_out_date = datetime.datetime.strptime(review_date, date_format) - datetime.timedelta(days = check_out)\n",
    "    transaction_date = check_in_date - datetime.timedelta(days = transaction_ndays)\n",
    "    \n",
    "    num_days_stayed = (check_out_date - check_in_date).days\n",
    "    \n",
    "    check_in_date = datetime.datetime.strftime(check_in_date, date_format)\n",
    "    actual_check_in_date = datetime.datetime.strftime(actual_check_in_date, date_format)\n",
    "    check_out_date = datetime.datetime.strftime(check_out_date, date_format)\n",
    "    transaction_date = datetime.datetime.strftime(transaction_date, date_format)\n",
    "    \n",
    "    total_cost = random.uniform(50.0, 5000.0)\n",
    "\n",
    "    data = (i, reviewer_id, listing_id, transaction_date, check_in_date, check_out_date,\n",
    "            actual_check_in_date, total_cost, num_days_stayed)\n",
    "    cursor.execute(f'INSERT INTO transaction VALUES {data}')"
   ]
  },
  {
   "cell_type": "code",
   "execution_count": 43,
   "metadata": {},
   "outputs": [],
   "source": [
    "del review_table"
   ]
  },
  {
   "cell_type": "code",
   "execution_count": 44,
   "metadata": {},
   "outputs": [],
   "source": [
    "db.commit()"
   ]
  },
  {
   "cell_type": "code",
   "execution_count": null,
   "metadata": {},
   "outputs": [],
   "source": []
  }
 ],
 "metadata": {
  "kernelspec": {
   "display_name": "Python 3 (ipykernel)",
   "language": "python",
   "name": "python3"
  },
  "language_info": {
   "codemirror_mode": {
    "name": "ipython",
    "version": 3
   },
   "file_extension": ".py",
   "mimetype": "text/x-python",
   "name": "python",
   "nbconvert_exporter": "python",
   "pygments_lexer": "ipython3",
   "version": "3.10.6"
  },
  "vscode": {
   "interpreter": {
    "hash": "c76811fc4d1b3955a41bc6997691c4c2eac05425e202bf372c88847c144ab8fd"
   }
  }
 },
 "nbformat": 4,
 "nbformat_minor": 2
}
